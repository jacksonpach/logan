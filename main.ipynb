{
 "cells": [
  {
   "cell_type": "code",
   "execution_count": 2,
   "outputs": [],
   "source": [
    "import services as sc\n",
    "import yfinance as yf\n",
    "import pandas as pd\n",
    "from yahoo_fin import stock_info as si\n",
    "# stocks_symbol = sc.get_symbols_br()"
   ],
   "metadata": {
    "collapsed": false,
    "pycharm": {
     "name": "#%%\n"
    }
   }
  },
  {
   "cell_type": "code",
   "execution_count": 3,
   "outputs": [
    {
     "data": {
      "text/plain": "{'zip': '95014',\n 'sector': 'Technology',\n 'fullTimeEmployees': 154000,\n 'longBusinessSummary': 'Apple Inc. designs, manufactures, and markets smartphones, personal computers, tablets, wearables, and accessories worldwide. It also sells various related services. In addition, the company offers iPhone, a line of smartphones; Mac, a line of personal computers; iPad, a line of multi-purpose tablets; AirPods Max, an over-ear wireless headphone; and wearables, home, and accessories comprising AirPods, Apple TV, Apple Watch, Beats products, HomePod, and iPod touch. Further, it provides AppleCare support services; cloud services store services; and operates various platforms, including the App Store that allow customers to discover and download applications and digital content, such as books, music, video, games, and podcasts. Additionally, the company offers various services, such as Apple Arcade, a game subscription service; Apple Music, which offers users a curated listening experience with on-demand radio stations; Apple News+, a subscription news and magazine service; Apple TV+, which offers exclusive original content; Apple Card, a co-branded credit card; and Apple Pay, a cashless payment service, as well as licenses its intellectual property. The company serves consumers, and small and mid-sized businesses; and the education, enterprise, and government markets. It distributes third-party applications for its products through the App Store. The company also sells its products through its retail and online stores, and direct sales force; and third-party cellular network carriers, wholesalers, retailers, and resellers. Apple Inc. was incorporated in 1977 and is headquartered in Cupertino, California.',\n 'city': 'Cupertino',\n 'phone': '408 996 1010',\n 'state': 'CA',\n 'country': 'United States',\n 'companyOfficers': [],\n 'website': 'https://www.apple.com',\n 'maxAge': 1,\n 'address1': 'One Apple Park Way',\n 'industry': 'Consumer Electronics',\n 'ebitdaMargins': 0.33842,\n 'profitMargins': 0.26407,\n 'grossMargins': 0.43322,\n 'operatingCashflow': 116425998336,\n 'revenueGrowth': 0.086,\n 'operatingMargins': 0.30926,\n 'ebitda': 130633998336,\n 'targetLowPrice': 157,\n 'recommendationKey': 'buy',\n 'grossProfits': 152836000000,\n 'freeCashflow': 84384628736,\n 'targetMedianPrice': 191,\n 'currentPrice': 140.36,\n 'earningsGrowth': 0.086,\n 'currentRatio': 0.927,\n 'returnOnAssets': 0.21695,\n 'numberOfAnalystOpinions': 43,\n 'targetMeanPrice': 189.73,\n 'debtToEquity': 178.016,\n 'returnOnEquity': 1.49271,\n 'targetHighPrice': 214,\n 'totalCash': 51511001088,\n 'totalDebt': 119980998656,\n 'totalRevenue': 386017001472,\n 'totalCashPerShare': 3.183,\n 'financialCurrency': 'USD',\n 'revenuePerShare': 23.471,\n 'quickRatio': 0.76,\n 'recommendationMean': 1.9,\n 'exchange': 'NMS',\n 'shortName': 'Apple Inc.',\n 'longName': 'Apple Inc.',\n 'exchangeTimezoneName': 'America/New_York',\n 'exchangeTimezoneShortName': 'EDT',\n 'isEsgPopulated': False,\n 'gmtOffSetMilliseconds': '-14400000',\n 'quoteType': 'EQUITY',\n 'symbol': 'AAPL',\n 'messageBoardId': 'finmb_24937',\n 'market': 'us_market',\n 'annualHoldingsTurnover': None,\n 'enterpriseToRevenue': 6.178,\n 'beta3Year': None,\n 'enterpriseToEbitda': 18.255,\n '52WeekChange': 0.106503725,\n 'morningStarRiskRating': None,\n 'forwardEps': 6.56,\n 'revenueQuarterlyGrowth': None,\n 'sharesOutstanding': 16185199616,\n 'fundInceptionDate': None,\n 'annualReportExpenseRatio': None,\n 'totalAssets': None,\n 'bookValue': 4.158,\n 'sharesShort': 103977276,\n 'sharesPercentSharesOut': 0.0064,\n 'fundFamily': None,\n 'lastFiscalYearEnd': 1632528000,\n 'heldPercentInstitutions': 0.59602,\n 'netIncomeToCommon': 101934997504,\n 'trailingEps': 6.137,\n 'lastDividendValue': 0.23,\n 'SandP52WeekChange': -0.060655534,\n 'priceToBook': 33.756615,\n 'heldPercentInsiders': 0.00072999997,\n 'nextFiscalYearEnd': 1695600000,\n 'yield': None,\n 'mostRecentQuarter': 1648252800,\n 'shortRatio': 1.21,\n 'sharesShortPreviousMonthDate': 1648684800,\n 'floatShares': 16168348412,\n 'beta': 1.194642,\n 'enterpriseValue': 2384731308032,\n 'priceHint': 2,\n 'threeYearAverageReturn': None,\n 'lastSplitDate': 1598832000,\n 'lastSplitFactor': '4:1',\n 'legalType': None,\n 'lastDividendDate': 1651795200,\n 'morningStarOverallRating': None,\n 'earningsQuarterlyGrowth': 0.058,\n 'priceToSalesTrailing12Months': 5.885115,\n 'dateShortInterest': 1651190400,\n 'pegRatio': 2.31,\n 'ytdReturn': None,\n 'forwardPE': 21.396341,\n 'lastCapGain': None,\n 'shortPercentOfFloat': 0.0064,\n 'sharesShortPriorMonth': 101969098,\n 'impliedSharesOutstanding': 0,\n 'category': None,\n 'fiveYearAverageReturn': None,\n 'previousClose': 143.11,\n 'regularMarketOpen': 140.805,\n 'twoHundredDayAverage': 159.53204,\n 'trailingAnnualDividendYield': 0.006149116,\n 'payoutRatio': 0.14310001,\n 'volume24Hr': None,\n 'regularMarketDayHigh': 141.97,\n 'navPrice': None,\n 'averageDailyVolume10Day': 120870920,\n 'regularMarketPreviousClose': 143.11,\n 'fiftyDayAverage': 161.402,\n 'trailingAnnualDividendRate': 0.88,\n 'open': 140.805,\n 'toCurrency': None,\n 'averageVolume10days': 120870920,\n 'expireDate': None,\n 'algorithm': None,\n 'dividendRate': 0.92,\n 'exDividendDate': 1651795200,\n 'circulatingSupply': None,\n 'startDate': None,\n 'regularMarketDayLow': 137.331,\n 'currency': 'USD',\n 'trailingPE': 22.871109,\n 'regularMarketVolume': 102712708,\n 'lastMarket': None,\n 'maxSupply': None,\n 'openInterest': None,\n 'marketCap': 2271754584064,\n 'volumeAllCurrencies': None,\n 'strikePrice': None,\n 'averageVolume': 98131227,\n 'dayLow': 137.331,\n 'ask': 139.2,\n 'askSize': 900,\n 'volume': 102712708,\n 'fiftyTwoWeekHigh': 182.94,\n 'fromCurrency': None,\n 'fiveYearAvgDividendYield': 1.1,\n 'fiftyTwoWeekLow': 123.13,\n 'bid': 0,\n 'tradeable': False,\n 'dividendYield': 0.0064,\n 'bidSize': 1100,\n 'dayHigh': 141.97,\n 'regularMarketPrice': 140.36,\n 'preMarketPrice': 138.72,\n 'logo_url': 'https://logo.clearbit.com/apple.com',\n 'trailingPegRatio': 2.4893}"
     },
     "execution_count": 3,
     "metadata": {},
     "output_type": "execute_result"
    }
   ],
   "source": [
    "#define the ticker symbol\n",
    "tickerSymbol = 'AAPL'\n",
    "#get data on this ticker\n",
    "tickerData = yf.Ticker(tickerSymbol)\n",
    "\n",
    "#info on the company\n",
    "tickerData.info"
   ],
   "metadata": {
    "collapsed": false,
    "pycharm": {
     "name": "#%%\n"
    }
   }
  },
  {
   "cell_type": "code",
   "execution_count": 25,
   "outputs": [
    {
     "data": {
      "text/plain": "0    189.0\nName: marketCap, dtype: float64"
     },
     "execution_count": 25,
     "metadata": {},
     "output_type": "execute_result"
    }
   ],
   "source": [
    "df = pd.DataFrame([tickerData.info])\n",
    "market_cap = df.marketCap / 10000000000\n",
    "market_cap = round(market_cap)\n",
    "df.re"
   ],
   "metadata": {
    "collapsed": false,
    "pycharm": {
     "name": "#%%\n"
    }
   }
  }
 ],
 "metadata": {
  "kernelspec": {
   "display_name": "Python 3",
   "language": "python",
   "name": "python3"
  },
  "language_info": {
   "codemirror_mode": {
    "name": "ipython",
    "version": 2
   },
   "file_extension": ".py",
   "mimetype": "text/x-python",
   "name": "python",
   "nbconvert_exporter": "python",
   "pygments_lexer": "ipython2",
   "version": "2.7.6"
  }
 },
 "nbformat": 4,
 "nbformat_minor": 0
}