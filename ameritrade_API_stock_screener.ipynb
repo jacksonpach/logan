{
 "cells": [
  {
   "cell_type": "code",
   "execution_count": 10,
   "outputs": [],
   "source": [
    "import requests"
   ],
   "metadata": {
    "collapsed": false,
    "pycharm": {
     "name": "#%%\n"
    }
   }
  },
  {
   "cell_type": "code",
   "execution_count": 17,
   "outputs": [
    {
     "data": {
      "text/plain": "{'AAPL': {'fundamental': {'symbol': 'AAPL',\n   'high52': 182.94,\n   'low52': 123.13,\n   'dividendAmount': 0.92,\n   'dividendYield': 0.67,\n   'dividendDate': '2022-05-06 00:00:00.000',\n   'peRatio': 22.36465,\n   'pegRatio': 0.587773,\n   'pbRatio': 33.08653,\n   'prRatio': 5.76897,\n   'pcfRatio': 19.67417,\n   'grossMarginTTM': 43.32219,\n   'grossMarginMRQ': 43.74987,\n   'netProfitMarginTTM': 26.40687,\n   'netProfitMarginMRQ': 25.70982,\n   'operatingMarginTTM': 30.92584,\n   'operatingMarginMRQ': 30.81786,\n   'returnOnEquity': 149.2711,\n   'returnOnAssets': 29.64002,\n   'returnOnInvestment': 44.91251,\n   'quickRatio': 0.88402,\n   'currentRatio': 0.92684,\n   'interestCoverage': 0.0,\n   'totalDebtToCapital': 64.03085,\n   'ltDebtToEquity': 153.3005,\n   'totalDebtToEquity': 178.016,\n   'epsTTM': 6.15212,\n   'epsChangePercentTTM': 38.04979,\n   'epsChangeYear': 9.23257,\n   'epsChange': 0.0,\n   'revChangeYear': 0.0,\n   'revChangeTTM': 18.62627,\n   'revChangeIn': 0.0,\n   'sharesOutstanding': 16185181000.0,\n   'marketCapFloat': 16173.62,\n   'marketCap': 2226919.0,\n   'bookValuePerShare': 0.0,\n   'shortIntToFloat': 0.0,\n   'shortIntDayToCover': 0.0,\n   'divGrowthRate3Year': 0.0,\n   'dividendPayAmount': 0.23,\n   'dividendPayDate': '2022-05-12 00:00:00.000',\n   'beta': 1.2305,\n   'vol1DayAvg': 123447210.0,\n   'vol10DayAvg': 123447207.0,\n   'vol3MonthAvg': 2059835420.0},\n  'cusip': '037833100',\n  'symbol': 'AAPL',\n  'description': 'Apple Inc. - Common Stock',\n  'exchange': 'NASDAQ',\n  'assetType': 'EQUITY'}}"
     },
     "execution_count": 17,
     "metadata": {},
     "output_type": "execute_result"
    }
   ],
   "source": [
    "url = 'https://api.tdameritrade.com/v1/instruments'\n",
    "\n",
    "payload = {'apikey': 'ZNGQPWCFMDL4JT72SKDF0EGAPFMYTI8C',\n",
    "           'symbol': 'AAPL',\n",
    "           'projection': 'fundamental'}\n",
    "\n",
    "results = requests.get(url, params=payload)\n",
    "results.json()"
   ],
   "metadata": {
    "collapsed": false,
    "pycharm": {
     "name": "#%%\n"
    }
   }
  }
 ],
 "metadata": {
  "kernelspec": {
   "display_name": "Python 3",
   "language": "python",
   "name": "python3"
  },
  "language_info": {
   "codemirror_mode": {
    "name": "ipython",
    "version": 2
   },
   "file_extension": ".py",
   "mimetype": "text/x-python",
   "name": "python",
   "nbconvert_exporter": "python",
   "pygments_lexer": "ipython2",
   "version": "2.7.6"
  }
 },
 "nbformat": 4,
 "nbformat_minor": 0
}