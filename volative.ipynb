{
 "cells": [
  {
   "cell_type": "code",
   "execution_count": 50,
   "outputs": [
    {
     "name": "stdout",
     "output_type": "stream",
     "text": [
      "[*********************100%***********************]  1 of 1 completed\n"
     ]
    },
    {
     "data": {
      "text/plain": "                  Open        High         Low       Close   Adj Close  \\\nDate                                                                     \n2022-05-16  145.550003  147.520004  144.179993  145.539993  145.539993   \n2022-05-17  148.860001  149.770004  146.679993  149.240005  149.240005   \n2022-05-18  146.850006  147.360001  139.899994  140.820007  140.820007   \n2022-05-19  139.880005  141.660004  136.600006  137.350006  137.350006   \n2022-05-20  139.089996  140.699997  132.610001  137.589996  137.589996   \n2022-05-23  137.789993  143.259995  137.649994  143.110001  143.110001   \n2022-05-24  140.809998  141.970001  137.330002  140.360001  140.360001   \n2022-05-25  138.429993  141.380005  138.339996  139.529999  139.529999   \n\n               Volume  \nDate                   \n2022-05-16   86643800  \n2022-05-17   78336300  \n2022-05-18  109742900  \n2022-05-19  136095600  \n2022-05-20  137194600  \n2022-05-23  117726300  \n2022-05-24  103890900  \n2022-05-25   37966389  ",
      "text/html": "<div>\n<style scoped>\n    .dataframe tbody tr th:only-of-type {\n        vertical-align: middle;\n    }\n\n    .dataframe tbody tr th {\n        vertical-align: top;\n    }\n\n    .dataframe thead th {\n        text-align: right;\n    }\n</style>\n<table border=\"1\" class=\"dataframe\">\n  <thead>\n    <tr style=\"text-align: right;\">\n      <th></th>\n      <th>Open</th>\n      <th>High</th>\n      <th>Low</th>\n      <th>Close</th>\n      <th>Adj Close</th>\n      <th>Volume</th>\n    </tr>\n    <tr>\n      <th>Date</th>\n      <th></th>\n      <th></th>\n      <th></th>\n      <th></th>\n      <th></th>\n      <th></th>\n    </tr>\n  </thead>\n  <tbody>\n    <tr>\n      <th>2022-05-16</th>\n      <td>145.550003</td>\n      <td>147.520004</td>\n      <td>144.179993</td>\n      <td>145.539993</td>\n      <td>145.539993</td>\n      <td>86643800</td>\n    </tr>\n    <tr>\n      <th>2022-05-17</th>\n      <td>148.860001</td>\n      <td>149.770004</td>\n      <td>146.679993</td>\n      <td>149.240005</td>\n      <td>149.240005</td>\n      <td>78336300</td>\n    </tr>\n    <tr>\n      <th>2022-05-18</th>\n      <td>146.850006</td>\n      <td>147.360001</td>\n      <td>139.899994</td>\n      <td>140.820007</td>\n      <td>140.820007</td>\n      <td>109742900</td>\n    </tr>\n    <tr>\n      <th>2022-05-19</th>\n      <td>139.880005</td>\n      <td>141.660004</td>\n      <td>136.600006</td>\n      <td>137.350006</td>\n      <td>137.350006</td>\n      <td>136095600</td>\n    </tr>\n    <tr>\n      <th>2022-05-20</th>\n      <td>139.089996</td>\n      <td>140.699997</td>\n      <td>132.610001</td>\n      <td>137.589996</td>\n      <td>137.589996</td>\n      <td>137194600</td>\n    </tr>\n    <tr>\n      <th>2022-05-23</th>\n      <td>137.789993</td>\n      <td>143.259995</td>\n      <td>137.649994</td>\n      <td>143.110001</td>\n      <td>143.110001</td>\n      <td>117726300</td>\n    </tr>\n    <tr>\n      <th>2022-05-24</th>\n      <td>140.809998</td>\n      <td>141.970001</td>\n      <td>137.330002</td>\n      <td>140.360001</td>\n      <td>140.360001</td>\n      <td>103890900</td>\n    </tr>\n    <tr>\n      <th>2022-05-25</th>\n      <td>138.429993</td>\n      <td>141.380005</td>\n      <td>138.339996</td>\n      <td>139.529999</td>\n      <td>139.529999</td>\n      <td>37966389</td>\n    </tr>\n  </tbody>\n</table>\n</div>"
     },
     "execution_count": 50,
     "metadata": {},
     "output_type": "execute_result"
    }
   ],
   "source": [
    "import yfinance as yf\n",
    "from datetime import datetime, timedelta\n",
    "import numpy as np\n",
    "import matplotlib.pyplot as plt\n",
    "stock = 'AAPL'\n",
    "start_day = datetime.now() + timedelta(days=-9)\n",
    "end_day = datetime.now() + timedelta()\n",
    "df = yf.download(stock, start=start_day, end=end_day)\n",
    "df"
   ],
   "metadata": {
    "collapsed": false,
    "pycharm": {
     "name": "#%%\n"
    }
   }
  },
  {
   "cell_type": "code",
   "execution_count": 53,
   "outputs": [
    {
     "data": {
      "text/plain": "149.24000549316406"
     },
     "execution_count": 53,
     "metadata": {},
     "output_type": "execute_result"
    }
   ],
   "source": [
    "rent_day = (df['Close'][1])\n",
    "rent_day"
   ],
   "metadata": {
    "collapsed": false,
    "pycharm": {
     "name": "#%%\n"
    }
   }
  }
 ],
 "metadata": {
  "kernelspec": {
   "display_name": "Python 3",
   "language": "python",
   "name": "python3"
  },
  "language_info": {
   "codemirror_mode": {
    "name": "ipython",
    "version": 2
   },
   "file_extension": ".py",
   "mimetype": "text/x-python",
   "name": "python",
   "nbconvert_exporter": "python",
   "pygments_lexer": "ipython2",
   "version": "2.7.6"
  }
 },
 "nbformat": 4,
 "nbformat_minor": 0
}