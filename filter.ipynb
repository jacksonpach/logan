{
 "cells": [
  {
   "cell_type": "code",
   "execution_count": 82,
   "outputs": [],
   "source": [
    "import services as sc\n",
    "import yfinance as yf\n",
    "import pandas as pd"
   ],
   "metadata": {
    "collapsed": false,
    "pycharm": {
     "name": "#%%\n"
    }
   }
  },
  {
   "cell_type": "code",
   "execution_count": 83,
   "outputs": [],
   "source": [
    "config_price = 5\n",
    "config_market_cap = 10\n",
    "# stocks_symbol = sc.get_symbols_br()"
   ],
   "metadata": {
    "collapsed": false,
    "pycharm": {
     "name": "#%%\n"
    }
   }
  },
  {
   "cell_type": "code",
   "execution_count": 84,
   "outputs": [],
   "source": [
    "stock = 'AAPL'\n",
    "tickerData = yf.Ticker(stock)\n",
    "df = pd.DataFrame([tickerData.info])"
   ],
   "metadata": {
    "collapsed": false,
    "pycharm": {
     "name": "#%%\n"
    }
   }
  },
  {
   "cell_type": "code",
   "execution_count": 85,
   "outputs": [
    {
     "data": {
      "text/plain": "     zip      sector  fullTimeEmployees  \\\n0  95014  Technology             154000   \n\n                                 longBusinessSummary       city         phone  \\\n0  Apple Inc. designs, manufactures, and markets ...  Cupertino  408 996 1010   \n\n  state        country companyOfficers                website  ...  \\\n0    CA  United States              []  https://www.apple.com  ...   \n\n   fiftyTwoWeekLow bid tradeable  dividendYield  bidSize  dayHigh  \\\n0           123.13   0     False         0.0067     1000   143.26   \n\n   regularMarketPrice  preMarketPrice                             logo_url  \\\n0              143.11          140.97  https://logo.clearbit.com/apple.com   \n\n   trailingPegRatio  \n0            2.4893  \n\n[1 rows x 153 columns]",
      "text/html": "<div>\n<style scoped>\n    .dataframe tbody tr th:only-of-type {\n        vertical-align: middle;\n    }\n\n    .dataframe tbody tr th {\n        vertical-align: top;\n    }\n\n    .dataframe thead th {\n        text-align: right;\n    }\n</style>\n<table border=\"1\" class=\"dataframe\">\n  <thead>\n    <tr style=\"text-align: right;\">\n      <th></th>\n      <th>zip</th>\n      <th>sector</th>\n      <th>fullTimeEmployees</th>\n      <th>longBusinessSummary</th>\n      <th>city</th>\n      <th>phone</th>\n      <th>state</th>\n      <th>country</th>\n      <th>companyOfficers</th>\n      <th>website</th>\n      <th>...</th>\n      <th>fiftyTwoWeekLow</th>\n      <th>bid</th>\n      <th>tradeable</th>\n      <th>dividendYield</th>\n      <th>bidSize</th>\n      <th>dayHigh</th>\n      <th>regularMarketPrice</th>\n      <th>preMarketPrice</th>\n      <th>logo_url</th>\n      <th>trailingPegRatio</th>\n    </tr>\n  </thead>\n  <tbody>\n    <tr>\n      <th>0</th>\n      <td>95014</td>\n      <td>Technology</td>\n      <td>154000</td>\n      <td>Apple Inc. designs, manufactures, and markets ...</td>\n      <td>Cupertino</td>\n      <td>408 996 1010</td>\n      <td>CA</td>\n      <td>United States</td>\n      <td>[]</td>\n      <td>https://www.apple.com</td>\n      <td>...</td>\n      <td>123.13</td>\n      <td>0</td>\n      <td>False</td>\n      <td>0.0067</td>\n      <td>1000</td>\n      <td>143.26</td>\n      <td>143.11</td>\n      <td>140.97</td>\n      <td>https://logo.clearbit.com/apple.com</td>\n      <td>2.4893</td>\n    </tr>\n  </tbody>\n</table>\n<p>1 rows × 153 columns</p>\n</div>"
     },
     "execution_count": 85,
     "metadata": {},
     "output_type": "execute_result"
    }
   ],
   "source": [
    "df"
   ],
   "metadata": {
    "collapsed": false,
    "pycharm": {
     "name": "#%%\n"
    }
   }
  },
  {
   "cell_type": "code",
   "execution_count": 86,
   "outputs": [
    {
     "name": "stdout",
     "output_type": "stream",
     "text": [
      "0.9539933013332019\n"
     ]
    }
   ],
   "source": [
    "if 'currentPrice' in df.columns:\n",
    "    if df.currentPrice[0] > config_price :\n",
    "        market_cap = df.marketCap[0] / 10000000000\n",
    "        market_cap = round(market_cap)\n",
    "        if market_cap > config_market_cap:\n",
    "            relative_volume = df.volume[0] / df.averageVolume10days[0]\n",
    "            print(relative_volume)\n",
    "        else:\n",
    "            print('false')\n",
    "    else:\n",
    "        print('false')\n",
    "else:\n",
    "    print('currentPrice none')\n"
   ],
   "metadata": {
    "collapsed": false,
    "pycharm": {
     "name": "#%%\n"
    }
   }
  },
  {
   "cell_type": "code",
   "execution_count": 86,
   "outputs": [],
   "source": [],
   "metadata": {
    "collapsed": false,
    "pycharm": {
     "name": "#%%\n"
    }
   }
  }
 ],
 "metadata": {
  "kernelspec": {
   "display_name": "Python 3",
   "language": "python",
   "name": "python3"
  },
  "language_info": {
   "codemirror_mode": {
    "name": "ipython",
    "version": 2
   },
   "file_extension": ".py",
   "mimetype": "text/x-python",
   "name": "python",
   "nbconvert_exporter": "python",
   "pygments_lexer": "ipython2",
   "version": "2.7.6"
  }
 },
 "nbformat": 4,
 "nbformat_minor": 0
}