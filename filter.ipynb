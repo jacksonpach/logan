{
 "cells": [
  {
   "cell_type": "code",
   "execution_count": 9,
   "outputs": [],
   "source": [
    "import services as sc\n",
    "import yfinance as yf\n",
    "import pandas as pd\n",
    "from finvizfinance.quote import finvizfinance"
   ],
   "metadata": {
    "collapsed": false,
    "pycharm": {
     "name": "#%%\n"
    }
   }
  },
  {
   "cell_type": "code",
   "execution_count": 10,
   "outputs": [],
   "source": [
    "config_price = 5\n",
    "config_market_cap = 10\n",
    "# stocks_symbol = sc.get_symbols_br()"
   ],
   "metadata": {
    "collapsed": false,
    "pycharm": {
     "name": "#%%\n"
    }
   }
  },
  {
   "cell_type": "code",
   "execution_count": 11,
   "outputs": [
    {
     "data": {
      "text/plain": "       Company             Sector            Industry Country    Index    P/E  \\\n0  Tesla, Inc.  Consumer Cyclical  Auto Manufacturers     USA  S&P 500  95.67   \n\n  EPS (ttm) Insider Own Shs Outstand Perf Week  ...    Earnings Payout  \\\n0      7.40      17.26%        1.00B    -0.24%  ...  Apr 20 AMC  0.00%   \n\n  Avg Volume   Price Recom   SMA20    SMA50   SMA200      Volume Change  \n0     27.02M  750.62  2.50  -2.72%  -17.67%  -17.74%  19,810,620  6.06%  \n\n[1 rows x 77 columns]",
      "text/html": "<div>\n<style scoped>\n    .dataframe tbody tr th:only-of-type {\n        vertical-align: middle;\n    }\n\n    .dataframe tbody tr th {\n        vertical-align: top;\n    }\n\n    .dataframe thead th {\n        text-align: right;\n    }\n</style>\n<table border=\"1\" class=\"dataframe\">\n  <thead>\n    <tr style=\"text-align: right;\">\n      <th></th>\n      <th>Company</th>\n      <th>Sector</th>\n      <th>Industry</th>\n      <th>Country</th>\n      <th>Index</th>\n      <th>P/E</th>\n      <th>EPS (ttm)</th>\n      <th>Insider Own</th>\n      <th>Shs Outstand</th>\n      <th>Perf Week</th>\n      <th>...</th>\n      <th>Earnings</th>\n      <th>Payout</th>\n      <th>Avg Volume</th>\n      <th>Price</th>\n      <th>Recom</th>\n      <th>SMA20</th>\n      <th>SMA50</th>\n      <th>SMA200</th>\n      <th>Volume</th>\n      <th>Change</th>\n    </tr>\n  </thead>\n  <tbody>\n    <tr>\n      <th>0</th>\n      <td>Tesla, Inc.</td>\n      <td>Consumer Cyclical</td>\n      <td>Auto Manufacturers</td>\n      <td>USA</td>\n      <td>S&amp;P 500</td>\n      <td>95.67</td>\n      <td>7.40</td>\n      <td>17.26%</td>\n      <td>1.00B</td>\n      <td>-0.24%</td>\n      <td>...</td>\n      <td>Apr 20 AMC</td>\n      <td>0.00%</td>\n      <td>27.02M</td>\n      <td>750.62</td>\n      <td>2.50</td>\n      <td>-2.72%</td>\n      <td>-17.67%</td>\n      <td>-17.74%</td>\n      <td>19,810,620</td>\n      <td>6.06%</td>\n    </tr>\n  </tbody>\n</table>\n<p>1 rows × 77 columns</p>\n</div>"
     },
     "execution_count": 11,
     "metadata": {},
     "output_type": "execute_result"
    }
   ],
   "source": [
    "stock = finvizfinance('tsla')\n",
    "stock_fundament = stock.ticker_fundament()\n",
    "df = pd.DataFrame([stock_fundament])"
   ],
   "metadata": {
    "collapsed": false,
    "pycharm": {
     "name": "#%%\n"
    }
   }
  },
  {
   "cell_type": "code",
   "execution_count": 38,
   "outputs": [
    {
     "data": {
      "text/plain": "8.66"
     },
     "execution_count": 38,
     "metadata": {},
     "output_type": "execute_result"
    }
   ],
   "source": [
    "current_price = float(df['Price'][0])\n",
    "market_cap = float((df['Market Cap'][0][:-1]))\n",
    "relative_volume = float(df['Rel Volume'][0])\n",
    "volatility_week = float(df['Volatility W'][0][:-1])\n",
    "volatility_week"
   ],
   "metadata": {
    "collapsed": false,
    "pycharm": {
     "name": "#%%\n"
    }
   }
  },
  {
   "cell_type": "code",
   "execution_count": 41,
   "outputs": [
    {
     "name": "stdout",
     "output_type": "stream",
     "text": [
      "relative_volume\n",
      "8.66\n"
     ]
    }
   ],
   "source": [
    "if 'Price' in df.columns:\n",
    "    if current_price > config_price :\n",
    "        if market_cap > config_market_cap:\n",
    "            if relative_volume > 1 :\n",
    "                print('relative_volume')\n",
    "                if volatility_week >= 3 :\n",
    "                    print(volatility_week)\n",
    "        else:\n",
    "            print('not sufficient market_cap')\n",
    "    else:\n",
    "        print('not sufficient current price')\n",
    "else:\n",
    "    print('not sufficient columns currentPrice')\n"
   ],
   "metadata": {
    "collapsed": false,
    "pycharm": {
     "name": "#%%\n"
    }
   }
  },
  {
   "cell_type": "code",
   "execution_count": 12,
   "outputs": [],
   "source": [],
   "metadata": {
    "collapsed": false,
    "pycharm": {
     "name": "#%%\n"
    }
   }
  }
 ],
 "metadata": {
  "kernelspec": {
   "display_name": "Python 3",
   "language": "python",
   "name": "python3"
  },
  "language_info": {
   "codemirror_mode": {
    "name": "ipython",
    "version": 2
   },
   "file_extension": ".py",
   "mimetype": "text/x-python",
   "name": "python",
   "nbconvert_exporter": "python",
   "pygments_lexer": "ipython2",
   "version": "2.7.6"
  }
 },
 "nbformat": 4,
 "nbformat_minor": 0
}