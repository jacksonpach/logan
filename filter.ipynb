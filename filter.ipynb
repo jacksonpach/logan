{
 "cells": [
  {
   "cell_type": "code",
   "execution_count": 103,
   "outputs": [],
   "source": [],
   "metadata": {
    "collapsed": false,
    "pycharm": {
     "name": "#%%\n"
    }
   }
  },
  {
   "cell_type": "code",
   "execution_count": 115,
   "outputs": [
    {
     "ename": "TypeError",
     "evalue": "__init__() missing 1 required positional argument: 'val'",
     "output_type": "error",
     "traceback": [
      "\u001B[0;31m---------------------------------------------------------------------------\u001B[0m",
      "\u001B[0;31mTypeError\u001B[0m                                 Traceback (most recent call last)",
      "Input \u001B[0;32mIn [115]\u001B[0m, in \u001B[0;36m<cell line: 3>\u001B[0;34m()\u001B[0m\n\u001B[1;32m      1\u001B[0m \u001B[38;5;28;01mfrom\u001B[39;00m \u001B[38;5;21;01mbase_services\u001B[39;00m \u001B[38;5;28;01mimport\u001B[39;00m BaseService\n\u001B[0;32m----> 3\u001B[0m bs \u001B[38;5;241m=\u001B[39m \u001B[43mBaseService\u001B[49m\u001B[43m(\u001B[49m\u001B[43m)\u001B[49m\n",
      "\u001B[0;31mTypeError\u001B[0m: __init__() missing 1 required positional argument: 'val'"
     ]
    }
   ],
   "source": [
    "from datetime import datetime, timedelta\n",
    "from base_services import BaseService\n",
    "\n",
    "bs = BaseService()\n",
    "# bs.getListSymbol()\n",
    "\n",
    "stock = 'WDAY'\n",
    "stocks_symbol = services.get_symbols_br()\n",
    "stocks_symbol\n",
    "stock_finviz = finvizfinance(stock)\n",
    "\n",
    "start_day = datetime.now() + timedelta(days=-9)\n",
    "end_day = datetime.now() + timedelta()\n",
    "df_month = yf.download(stock, start=start_day, end=end_day)\n",
    "stock_finviz_fundament = stock_finviz.ticker_fundament()\n",
    "df = pd.DataFrame([stock_finviz_fundament])\n",
    "df"
   ],
   "metadata": {
    "collapsed": false,
    "pycharm": {
     "name": "#%%\n"
    }
   }
  }
 ],
 "metadata": {
  "kernelspec": {
   "display_name": "Python 3",
   "language": "python",
   "name": "python3"
  },
  "language_info": {
   "codemirror_mode": {
    "name": "ipython",
    "version": 2
   },
   "file_extension": ".py",
   "mimetype": "text/x-python",
   "name": "python",
   "nbconvert_exporter": "python",
   "pygments_lexer": "ipython2",
   "version": "2.7.6"
  }
 },
 "nbformat": 4,
 "nbformat_minor": 0
}